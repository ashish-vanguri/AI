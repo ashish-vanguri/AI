{
  "nbformat": 4,
  "nbformat_minor": 0,
  "metadata": {
    "colab": {
      "name": "Untitled2.ipynb",
      "provenance": [],
      "authorship_tag": "ABX9TyOr2HUpRoVe7rsNHuqlD6T5",
      "include_colab_link": true
    },
    "kernelspec": {
      "name": "python3",
      "display_name": "Python 3"
    },
    "language_info": {
      "name": "python"
    }
  },
  "cells": [
    {
      "cell_type": "markdown",
      "metadata": {
        "id": "view-in-github",
        "colab_type": "text"
      },
      "source": [
        "<a href=\"https://colab.research.google.com/github/ashish-vanguri/AI/blob/main/Assignment2.ipynb\" target=\"_parent\"><img src=\"https://colab.research.google.com/assets/colab-badge.svg\" alt=\"Open In Colab\"/></a>"
      ]
    },
    {
      "cell_type": "code",
      "metadata": {
        "id": "KbK7zAiNkFuJ"
      },
      "source": [
        "import numpy as np\n",
        "x=np.random.uniform(-10,10)\n",
        "eta=0.001\n",
        "iter_max=300"
      ],
      "execution_count": 3,
      "outputs": []
    },
    {
      "cell_type": "code",
      "metadata": {
        "colab": {
          "base_uri": "https://localhost:8080/"
        },
        "id": "IETNoQzjkjLb",
        "outputId": "3f53e2b4-1ef2-445a-ea41-b6bf6f717e6f"
      },
      "source": [
        "iter=1\n",
        "while iter<=iter_max :\n",
        " slope = 4*x*x*x + 6*x\n",
        " step_length = (-eta) * slope\n",
        " x=x+step_length\n",
        " iter=iter+1 \n",
        "print(\"control variable = \",round(x))\n",
        "obj = ((x*x*x*x)+(3*x*x)+10)\n",
        "print(\"objective function = \",round(obj))"
      ],
      "execution_count": 4,
      "outputs": [
        {
          "output_type": "stream",
          "name": "stdout",
          "text": [
            "control variable =  0\n",
            "objective function =  10\n"
          ]
        }
      ]
    }
  ]
}