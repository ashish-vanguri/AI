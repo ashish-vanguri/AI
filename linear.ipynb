{
  "nbformat": 4,
  "nbformat_minor": 0,
  "metadata": {
    "colab": {
      "name": "linear.ipynb",
      "provenance": [],
      "authorship_tag": "ABX9TyMvqVakzwu/VucJJfwJ6k9E",
      "include_colab_link": true
    },
    "kernelspec": {
      "name": "python3",
      "display_name": "Python 3"
    },
    "language_info": {
      "name": "python"
    }
  },
  "cells": [
    {
      "cell_type": "markdown",
      "metadata": {
        "id": "view-in-github",
        "colab_type": "text"
      },
      "source": [
        "<a href=\"https://colab.research.google.com/github/ashish-vanguri/AI/blob/main/linear.ipynb\" target=\"_parent\"><img src=\"https://colab.research.google.com/assets/colab-badge.svg\" alt=\"Open In Colab\"/></a>"
      ]
    },
    {
      "cell_type": "code",
      "metadata": {
        "id": "OAty-UghNRvt",
        "colab": {
          "base_uri": "https://localhost:8080/"
        },
        "outputId": "e1be9a1f-8f49-4a5a-957c-285da56cc439"
      },
      "source": [
        "from scipy.optimize import linprog\n",
        "obj = [-50,-120]\n",
        "lhs = [[7000,2000],[10,30],[1,1]]\n",
        "rhs = [700000,1200,110]\n",
        "boundery = [(0,float('inf')),(0,float('inf'))]\n",
        "opt = linprog(c = obj,A_ub = lhs,b_ub = rhs,bounds = boundery,method = \"Simplex\")\n",
        "print(\"Wheat : \" + str(opt.x[0]))\n",
        "print(\"Barley : \" + str(opt.x[1]))\n"
      ],
      "execution_count": 45,
      "outputs": [
        {
          "output_type": "stream",
          "text": [
            "Wheat : 97.89473684210526\n",
            "Barley : 7.368421052631579\n"
          ],
          "name": "stdout"
        }
      ]
    }
  ]
}